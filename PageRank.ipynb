{
 "cells": [
  {
   "cell_type": "markdown",
   "id": "f738aa60",
   "metadata": {},
   "source": []
  },
  {
   "cell_type": "markdown",
   "id": "6da50deb",
   "metadata": {},
   "source": []
  },
  {
   "cell_type": "markdown",
   "id": "499b96bd",
   "metadata": {},
   "source": []
  },
  {
   "cell_type": "markdown",
   "id": "3daae812",
   "metadata": {},
   "source": []
  },
  {
   "cell_type": "markdown",
   "id": "beb007c8",
   "metadata": {},
   "source": []
  },
  {
   "cell_type": "markdown",
   "id": "c31941bd",
   "metadata": {},
   "source": []
  },
  {
   "cell_type": "markdown",
   "id": "ddd80faa",
   "metadata": {},
   "source": []
  },
  {
   "cell_type": "markdown",
   "id": "19a9aa50",
   "metadata": {},
   "source": []
  },
  {
   "cell_type": "code",
   "execution_count": null,
   "id": "152efbae",
   "metadata": {},
   "outputs": [],
   "source": []
  },
  {
   "cell_type": "code",
   "execution_count": null,
   "id": "1b7e3247",
   "metadata": {},
   "outputs": [],
   "source": []
  },
  {
   "cell_type": "code",
   "execution_count": null,
   "id": "feaf1dd6",
   "metadata": {},
   "outputs": [],
   "source": []
  },
  {
   "cell_type": "code",
   "execution_count": null,
   "id": "818b8cd5",
   "metadata": {},
   "outputs": [],
   "source": []
  },
  {
   "cell_type": "code",
   "execution_count": 159,
   "id": "3dbcdb5e",
   "metadata": {},
   "outputs": [],
   "source": [
    "from sympy import *\n",
    "from dtumathtools import *\n",
    "from IPython.display import Markdown\n",
    "import networkx as nx\n",
    "init_printing(use_latex=\"mathjax\")\n",
    "mdisplay = lambda x: display(Markdown(str(x)))\n",
    "nx_args={'with_labels':True, 'node_color':\"white\", 'edgecolors':\"black\", 'node_size':400}\n",
    "\n",
    "def cprint(input):\n",
    "    output = \"\"\n",
    "    if type(input) == list:\n",
    "        for i in input:\n",
    "            output += f\"{input}\\n\\n\"\n",
    "    else:\n",
    "        output += f\"{input}\\n\\n\"\n",
    "    return output"
   ]
  },
  {
   "cell_type": "markdown",
   "id": "4a550066",
   "metadata": {},
   "source": [
    "# Grafteoretisk Modellering af Netværk"
   ]
  },
  {
   "cell_type": "markdown",
   "id": "d2fe355a",
   "metadata": {},
   "source": [
    "## Opgave 1"
   ]
  },
  {
   "cell_type": "code",
   "execution_count": 160,
   "id": "b44956b9",
   "metadata": {},
   "outputs": [],
   "source": [
    "p1,p2,p3,p4,p5 = symbols('$p_1:6$')\n",
    "V1 = {p1, p2, p3, p4, p5}\n",
    "E1 = {(p1,p3), (p1,p5),(p2,p4),(p2,p5),(p3,p1),(p4,p1),(p4,p2),(p4,p5)}\n",
    "W = nx.DiGraph()\n",
    "W.add_nodes_from(V1, color=\"white\")\n",
    "\n",
    "W.add_edges_from(E1)\n",
    "nx.draw(W,**nx_args)"
   ]
  },
  {
   "cell_type": "markdown",
   "id": "c9ac3183",
   "metadata": {},
   "source": [
    "## Opgave 2"
   ]
  },
  {
   "cell_type": "code",
   "execution_count": 161,
   "id": "2118ea5b",
   "metadata": {},
   "outputs": [],
   "source": [
    "p1,p2,p3,p4,p5,p6 = symbols('$P_1:7$')\n",
    "V2 = {p1, p2, p3, p4, p5, p6}\n",
    "E2 = {(p1,p2), (p2,p3),(p3,p1),(p4,p5),(p5,p6),(p6,p4)}\n",
    "W2 = nx.DiGraph()\n",
    "W2.add_nodes_from(V2, color=\"white\")\n",
    "\n",
    "W2.add_edges_from(E2)\n",
    "nx.draw(W2,**nx_args)"
   ]
  },
  {
   "cell_type": "markdown",
   "id": "7b9a6a2c",
   "metadata": {},
   "source": [
    "# Opgave 3\n",
    "#"
   ]
  },
  {
   "cell_type": "markdown",
   "id": "aee9a7d5",
   "metadata": {},
   "source": [
    "Jo flere komponenter der er i et netværk, jo svære bliver det at finde en specifik node. Faktisk er det helt umuligt at finde frem til en node i et komponent, hvis man er i et andet komponent til at begynde med. Der er altså ingen links fra den ene hjemmeside til den anden. "
   ]
  },
  {
   "cell_type": "markdown",
   "id": "974fab7d",
   "metadata": {},
   "source": [
    "##"
   ]
  },
  {
   "cell_type": "code",
   "execution_count": 162,
   "id": "3ce3dba4",
   "metadata": {},
   "outputs": [],
   "source": [
    "W1 = {p1: {p3, p5}, p2: {p5, p4}, p3: {p1}, p4: {p1, p5, p2}, p5: {}}\n",
    "W2 = {p1: {p2}, p2: {p3}, p3: {p1}, p4: {p5}, p5: {p6}, p6: {p4}}"
   ]
  },
  {
   "cell_type": "markdown",
   "id": "db1210db",
   "metadata": {},
   "source": [
    "Det kan tjekkes om en node i graphen ikke linker til andrer noder, ved at tjekke om nodens value i adjacency listen er den tomme mængde $\\emptyset$"
   ]
  },
  {
   "cell_type": "markdown",
   "id": "7a471a54",
   "metadata": {},
   "source": [
    "## Opgave 5"
   ]
  },
  {
   "cell_type": "code",
   "execution_count": 163,
   "id": "92c1dbdd",
   "metadata": {},
   "outputs": [],
   "source": [
    "import numpy as np\n",
    "\n",
    "# Input: n og k er ikke-negative heltal\n",
    "# Output: web er en dictionary med n nøgler.\n",
    "# Værdien af hver nøgle er en liste, der er en delmængde af nøglerne.\n",
    "def make_web(n,k,kmin=0):\n",
    "    assert(k < n), \"k skal være mindre end n (da man ikke kan linke til sig selv)\"\n",
    "    assert(kmin <= k), \"kmin skal være mindre end eller lig med k\"\n",
    "    keys = list(symbols(f\"$p_0:{n}$\")) \n",
    "    web = dict()\n",
    "    \n",
    "    for j in keys:\n",
    "        numlinks = np.random.randint(kmin, k)\n",
    "        key_choices = keys.copy()\n",
    "        key_choices.remove(j)\n",
    "        web[j] = set(np.random.choice(key_choices, numlinks))\n",
    "    \n",
    "    return web\n",
    "\n",
    "print(make_web(4,3, 1))"
   ]
  },
  {
   "cell_type": "markdown",
   "id": "03317c76",
   "metadata": {},
   "source": [
    "\n",
    "## Opgave 6\n"
   ]
  },
  {
   "cell_type": "code",
   "execution_count": 164,
   "id": "6c876976",
   "metadata": {},
   "outputs": [],
   "source": [
    "import matplotlib.pyplot as plt\n",
    "\n",
    "def convert_to_nxgraph(web : dict):\n",
    "    digraph = nx.DiGraph()\n",
    "    digraph.add_nodes_from(web.keys())\n",
    "\n",
    "    for page in web.keys():\n",
    "        for link_to in web[page]:\n",
    "            digraph.add_edge(page, link_to)\n",
    "\n",
    "    return digraph\n",
    "\n",
    "    # Input: netværk som dictionary\n",
    "    # Output: Netværk visualiseret som graf\n",
    "def visualize_graph(web : dict):\n",
    "    \n",
    "    digraph = convert_to_nxgraph(web)\n",
    "    \n",
    "    plt.figure()\n",
    "    nx.draw(digraph, **nx_args)\n",
    "    plt.plot()\n",
    "\n",
    "visualize_graph(make_web(10, 5, 0))"
   ]
  },
  {
   "cell_type": "markdown",
   "id": "2d330fde",
   "metadata": {},
   "source": [
    "# Link matricen og Random Surfer Modellen"
   ]
  },
  {
   "cell_type": "markdown",
   "id": "70b138ec",
   "metadata": {},
   "source": [
    "## Opgave 7"
   ]
  },
  {
   "cell_type": "code",
   "execution_count": 165,
   "id": "a400bd40",
   "metadata": {},
   "outputs": [],
   "source": [
    "def make_adjacency_matrix(graph):\n",
    "    A = nx.adjacency_matrix(convert_to_nxgraph(graph))\n",
    "    b = A.toarray().transpose()\n",
    "    return b"
   ]
  },
  {
   "cell_type": "code",
   "execution_count": 166,
   "id": "36014659",
   "metadata": {},
   "outputs": [],
   "source": [
    "W1 = {p1: {p3, p5}, p2: {p5, p4}, p3: {p1}, p4: {p1, p5, p2}, p5: {}}\n",
    "display(Matrix(make_adjacency_matrix(W1)))\n",
    "\n",
    "\n"
   ]
  },
  {
   "cell_type": "markdown",
   "id": "b38c1b15",
   "metadata": {},
   "source": [
    "# Opgave 8"
   ]
  },
  {
   "cell_type": "code",
   "execution_count": 167,
   "id": "dc870e88",
   "metadata": {},
   "outputs": [],
   "source": [
    "def make_link_matrix(graph: dict):\n",
    "\n",
    "    adjacency_matrix : np.ndarray = make_adjacency_matrix(graph)\n",
    "\n",
    "    n = adjacency_matrix.shape[0]\n",
    "    link_matrix = np.zeros((n,n))\n",
    "    \n",
    "    for j in range(n):\n",
    "        N = adjacency_matrix[:,j].sum()\n",
    "        \n",
    "        if N == 0:\n",
    "            link_matrix[:,j] = 1 / n\n",
    "            continue\n",
    "            \n",
    "        for i in range(n):\n",
    "            if adjacency_matrix[i][j] == 1:\n",
    "                link_matrix[i][j] = 1 / N\n",
    "    \n",
    "    return link_matrix\n",
    "                \n",
    "\n",
    "display(Matrix(make_link_matrix(W1)))\n"
   ]
  },
  {
   "cell_type": "markdown",
   "id": "e72f4cbc",
   "metadata": {},
   "source": [
    "Matricerne har elementer samme sted, man tager antal 1-taller i hver søjle og sætter de tilsvarende elementer lig 1 / dette antal.\n",
    "Hvis en søjle er en 0 vektor, sætter man alle elementer lig $\\frac1N$"
   ]
  },
  {
   "cell_type": "markdown",
   "id": "48843838",
   "metadata": {},
   "source": [
    "## Opgave 9"
   ]
  },
  {
   "cell_type": "code",
   "execution_count": 168,
   "id": "a1732224",
   "metadata": {},
   "outputs": [],
   "source": [
    "# Input: Et netværk som dictionary og en start side\n",
    "# Output: Sandsynlighedsfordeling som dictionary for næste hjemmeside\n",
    "def surf_step(web, page):\n",
    "    \n",
    "    distribution=dict()\n",
    "\n",
    "    for link in web[page]:\n",
    "        distribution[link] = 1 / len(web[page])\n",
    "        \n",
    "    if len(distribution) == 0:\n",
    "        num_pages = len(web.keys())\n",
    "        \n",
    "        for web_page in web.keys():\n",
    "            distribution[web_page] = 1 / num_pages\n",
    "\n",
    "    return distribution\n",
    "\n",
    "print(surf_step(W1, p1))"
   ]
  },
  {
   "cell_type": "markdown",
   "id": "5be8da7c",
   "metadata": {},
   "source": [
    "## Opgave 10"
   ]
  },
  {
   "cell_type": "code",
   "execution_count": 169,
   "id": "d8c7f169",
   "metadata": {},
   "outputs": [],
   "source": [
    "# Input: Et netværk som dictionary og antallet af skridt i random surf simuleringen\n",
    "# Output: PageRank-værdier for hver side som en dictionary\n",
    "def random_surf(web, n):\n",
    "\n",
    "\n",
    "    \n",
    "    ranking=dict()\n",
    "    for page in web.keys():\n",
    "        ranking[page] = 0\n",
    "    page = np.random.choice(list(web.keys()))\n",
    "    ranking[page] = 1\n",
    "    \n",
    "    \n",
    "    for i in range(n-1):\n",
    "        potential_pages = surf_step(web, page)\n",
    "        page = np.random.choice(list(potential_pages.keys()), p = list(potential_pages.values()))\n",
    "        ranking[page] += 1 \n",
    "    for page in web.keys():\n",
    "        ranking[page] /= n \n",
    "    return ranking\n",
    "print(random_surf(W1,1000))"
   ]
  },
  {
   "cell_type": "markdown",
   "id": "7a0a3f68",
   "metadata": {},
   "source": [
    "## Opgave 11"
   ]
  },
  {
   "cell_type": "code",
   "execution_count": 170,
   "id": "57257429",
   "metadata": {},
   "outputs": [],
   "source": [
    "def test_surf_model(model: callable, web: dict):\n",
    "    output = \"\"\n",
    "    for interval in [100, 1000, 10000]:\n",
    "        output += cprint(f\"interval: {interval}\")\n",
    "        for n in range(interval, interval+10, 1):\n",
    "            output += cprint(model(web, n))\n",
    "    return output\n"
   ]
  },
  {
   "cell_type": "code",
   "execution_count": 183,
   "id": "25430bf5",
   "metadata": {},
   "outputs": [],
   "source": [
    "output = \"\"\n",
    "output += cprint(test_surf_model(random_surf, W1))\n",
    "output += cprint(test_surf_model(random_surf, W2))\n",
    "mdisplay(output)"
   ]
  },
  {
   "cell_type": "markdown",
   "id": "ce102e94",
   "metadata": {},
   "source": [
    "Den varierer meget, selv små skridt i iterations størrelsen varierer ret meget.\n",
    "Størrelsesordnerne er dog ca. det samme, og den bliver mere konsistent desto højere skridt iterations størrelsen er."
   ]
  },
  {
   "cell_type": "markdown",
   "id": "a7c0b7e4",
   "metadata": {},
   "source": [
    "## Opgave 12\n"
   ]
  },
  {
   "cell_type": "code",
   "execution_count": 184,
   "id": "15e623cd",
   "metadata": {},
   "outputs": [],
   "source": [
    "import random\n",
    "\n",
    "# Input: Et netværk som dictionary og en start side\n",
    "# Output: Sandsynlighedsfordeling som dictionary for næste hjemmeside\n",
    "def surf_step_damp(web, page, d):\n",
    "    \n",
    "    distribution=dict()\n",
    "\n",
    "    for link in web[page]:\n",
    "        distribution[link] = 1 / len(web[page])\n",
    "    \n",
    "    if len(distribution) == 0 or random.random() >= d:\n",
    "        num_pages = len(web.keys())\n",
    "        \n",
    "        for web_page in web.keys():\n",
    "            distribution[web_page] = 1 / num_pages\n",
    "\n",
    "    return distribution\n",
    "\n",
    "print(surf_step_damp(W1, p1, 0.85))"
   ]
  },
  {
   "cell_type": "code",
   "execution_count": null,
   "id": "9c720f76",
   "metadata": {},
   "outputs": [],
   "source": [
    "def random_surf_damp(web, n, d):\n",
    "\n",
    "\n",
    "    \n",
    "    ranking=dict()\n",
    "    for page in web.keys():\n",
    "        ranking[page] = 0\n",
    "    page = np.random.choice(list(web.keys()))\n",
    "    ranking[page] = 1\n",
    "    \n",
    "    \n",
    "    for i in range(n-1):\n",
    "        potential_pages = surf_step_damp(web, page, d)\n",
    "        page = np.random.choice(list(potential_pages.keys()), p = list(potential_pages.values()))\n",
    "        ranking[page] += 1 \n",
    "    for page in web.keys():\n",
    "        ranking[page] /= n \n",
    "    return ranking\n",
    "print(random_surf_damp(W1,1000, 0.85))"
   ]
  },
  {
   "cell_type": "markdown",
   "metadata": {},
   "source": [
    "# Opgave 13"
   ]
  },
  {
   "cell_type": "code",
   "execution_count": null,
   "id": "3b23bc5e",
   "metadata": {},
   "outputs": [],
   "source": [
    "dampening_factor = 0.85\n",
    "output = \"\"\n",
    "output += cprint(test_surf_model(lambda web, n: random_surf_damp(web, n, dampening_factor), W1))\n",
    "output += cprint(test_surf_model(lambda web, n: random_surf_damp(web, n, dampening_factor), W2))\n",
    "mdisplay(output)"
   ]
  },
  {
   "cell_type": "markdown",
   "id": "6d604cde",
   "metadata": {},
   "source": [
    "Nu kan man se at man får et bedere estimat på pageranken for grafer med flere komponenter."
   ]
  },
  {
   "cell_type": "code",
   "execution_count": null,
   "id": "a46a85b3",
   "metadata": {},
   "outputs": [],
   "source": []
  }
 ],
 "metadata": {
  "kernelspec": {
   "display_name": "Python 3",
   "language": "python",
   "name": "python3"
  },
  "language_info": {
   "codemirror_mode": {
    "name": "ipython",
    "version": 3
   },
   "file_extension": ".py",
   "mimetype": "text/x-python",
   "name": "python",
   "nbconvert_exporter": "python",
   "pygments_lexer": "ipython3",
   "version": "3.12.9"
  }
 },
 "nbformat": 4,
 "nbformat_minor": 5
}
