{
 "cells": [
  {
   "cell_type": "code",
   "execution_count": 33,
   "metadata": {},
   "outputs": [],
   "source": [
    "from sympy import *\n",
    "from dtumathtools import *\n",
    "from IPython.display import Markdown\n",
    "init_printing(use_latex=\"mathjax\")\n",
    "mdisplay = lambda x: display(Markdown(x))"
   ]
  },
  {
   "cell_type": "code",
   "execution_count": 34,
   "id": "b44956b9",
   "metadata": {},
   "outputs": [
    {
     "name": "stdout",
     "output_type": "stream",
     "text": [
      "hej\n"
     ]
    }
   ],
   "source": [
    "print(\"hej\")"
   ]
  },
  {
   "cell_type": "code",
   "execution_count": 35,
   "id": "c596b77c",
   "metadata": {},
   "outputs": [
    {
     "name": "stdout",
     "output_type": "stream",
     "text": [
      "4\n"
     ]
    }
   ],
   "source": [
    "print(2+2)"
   ]
  },
  {
   "cell_type": "code",
   "execution_count": 36,
   "id": "d5545025",
   "metadata": {},
   "outputs": [
    {
     "data": {
      "text/plain": [
       "'\\\\sin'"
      ]
     },
     "metadata": {},
     "output_type": "display_data"
    }
   ],
   "source": [
    "display(\"\\\\sin\")"
   ]
  }
 ],
 "metadata": {
  "kernelspec": {
   "display_name": "Python 3",
   "language": "python",
   "name": "python3"
  },
  "language_info": {
   "codemirror_mode": {
    "name": "ipython",
    "version": 3
   },
   "file_extension": ".py",
   "mimetype": "text/x-python",
   "name": "python",
   "nbconvert_exporter": "python",
   "pygments_lexer": "ipython3",
   "version": "3.12.9"
  }
 },
 "nbformat": 4,
 "nbformat_minor": 5
}
