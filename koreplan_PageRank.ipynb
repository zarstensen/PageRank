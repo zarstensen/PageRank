{
 "cells": [
  {
   "cell_type": "markdown",
   "id": "e121356a",
   "metadata": {},
   "source": [
    "# Projekt: Googles PageRank Algoritme"
   ]
  },
  {
   "cell_type": "markdown",
   "id": "94823269",
   "metadata": {},
   "source": [
    "*af: Jesper Bækholm Rom Poulsen og Jonas Amtoft. Baseret på David Branders arbejde. Med vejledning fra Jakob Lemvig.*"
   ]
  },
  {
   "cell_type": "markdown",
   "id": "ef808fde",
   "metadata": {},
   "source": [
    "(exercise:ar-setup)=\n",
    "\n",
    "## Indledning\n",
    "\n",
    "Når du søger på Google, bliver du præsenteret med en række hjemmesider med den mest relevante øverst, når man ser bort fra annoncer. Hvordan ved Googles søgealgoritme, hvordan den skal rangere disse hjemmesider? En måde at se på det er, at en hjemmeside som mange andre linker til, er en relevant hjemmeside. Dette er grundtanken bag PageRank algoritmen, navngivet efter Google-medstifter Larry Page, og netop det som dette projekt omhandler. I Google er håndteringen af internettets enorme informationsmængde et stort samspil mellem flere systemer. Webcrawlerne, som er distribueret over mange maskiner, henter og gemmer siderne i et stort repository. Disse sider gennemgår en proces, hvor vigtige ord og links udvindes og organiseres, hvilket danner grundlag for, at vi kan opbygge en stor netværksstruktur af hjemmesider forbundet via links. Denne sammenkædning, der blandt andet muliggør beregningen af en hjemmesides PageRank, er med til at sikre, at relevante og betydningsfulde sider nemt kan findes (http://infolab.stanford.edu/~backrub/google.html). \n",
    "> I dette projekt skal I undersøge en af de matematiske modeller bag PageRank algoritmen og udvikle forskellige metoder til at beregne PageRank i Python."
   ]
  },
  {
   "cell_type": "markdown",
   "id": "a190c8da",
   "metadata": {},
   "source": [
    "(exercise:rberedelse)=\n",
    "### Forberedelse\n",
    "\n",
    "- Egenværdiproblemet og diagonalisering, kapitel 11 (Matematik 1a)\n",
    "- Diagonaliserbare matricer, afsnit 2.7 (Matematik 1b)"
   ]
  },
  {
   "cell_type": "markdown",
   "id": "8d9cb057",
   "metadata": {},
   "source": [
    "(exercise:ojektml)=\n",
    "### Projektmål\n",
    "\n",
    "Hovedmålet med projektet er at lave fire forskellige implementeringer af PageRank algoritmen, der for et givet netværk kan udregne PageRanken.\n",
    "\n",
    "```{note}\n",
    "I skal skrive en sammenhængende rapport uden henvisning til opgavenumrene nedenfor. Det forventes ikke at alle opgaver besvares. I opgave [](exercise:PageRank-22) skal I fx *bevise* at alle matricer af en vis form er en såkaldt Markov-matrix - hvis I ikke kan komme igennem med det generelle bevis, må I i stedet illustrere udsagnet med nogle eksempler. I skal lade den endelige rapport styre af jeres interesser og ambitioner.\n",
    "\n",
    "Opgaver markeret med (*) kan undlades i den endelige rapport. Opgaver med (**) er særligt udfordrende og er tiltænkt interesserede.\n",
    "```"
   ]
  },
  {
   "cell_type": "markdown",
   "id": "f7d62b2f",
   "metadata": {},
   "source": [
    "## Grafteoretisk Modellering af Netværk"
   ]
  },
  {
   "cell_type": "markdown",
   "id": "b4103b53",
   "metadata": {},
   "source": [
    "Hjemmesider og deres links til andre hjemmesider kan repræsenteres som et netværk $W$, der kan opfattes som en rettet graf $W = (V, E)$.  Mængden $V$ består af *noder*, der hver repræsenterer en hjemmeside, og mængden $E$ indeholder *kanter* $(p_i, p_j)$, som repræsenterer et link fra hjemmeside $p_i$ til hjemmeside $p_j$. Vi antager, at hjemmesider ikke kan linke til sig selv, og derfor er løkker $(p_i,p_i)$ ikke tilladt. I denne model er hver kant rettet, hvilket betyder, at et link fra $p_i$ til $p_j$ ikke implicerer et modsatrettet link. Den indgående grad, $\\deg^-(p_j)$, svarer til antallet af links, der ankommer til node $p_j$, og den udgående grad, $\\deg^+(p_i)$, repræsenterer antallet af links, der forlader node $p_i$.\n",
    "\n",
    "```{note}\n",
    "* Noder kaldes også for knuder, punkter eller hjørner (på engelsk: **vertices**, nodes eller points)\n",
    "* Kanter kaldes også for links (på engelsk: **edges**, links or lines)\n",
    "* En rettet graf hedder på engelsk *directed graph* eller *digraph*. \n",
    "* En cykel (cyklus) eller kreds hedder på engelsk *a cycle*. \n",
    "```"
   ]
  },
  {
   "cell_type": "markdown",
   "id": "f877e7b8",
   "metadata": {},
   "source": [
    "(exercise:PageRank-1)=\n",
    "### Opgave 1 (*)"
   ]
  },
  {
   "cell_type": "markdown",
   "id": "8671c551",
   "metadata": {},
   "source": [
    "> Givet $V_1=\\{p_1,p_2,p_3,p_4,p_5\\}$ og $E_1=\\{(p_1,p_3),(p_1,p_5),(p_2,p_4),(p_2,p_5),(p_3,p_1),(p_4,p_1),(p_4,p_2),(p_4,p_5)\\}$, tegn grafen for netværket $W_1=(V_1,E_1)$ og angiv $deg^-(p_i)$ for $i=1,2,...,5$."
   ]
  },
  {
   "cell_type": "markdown",
   "id": "703af095",
   "metadata": {},
   "source": [
    "(exercise:PageRank-2)=\n",
    "### Opgave 2 (*)"
   ]
  },
  {
   "cell_type": "markdown",
   "id": "4b8b7617",
   "metadata": {},
   "source": [
    "> Givet $V_2=\\{P1,P2,P3,P4,P5,P6\\}$ og $E_2=\\{(P1,P2),(P2,P3),(P3,P1),(P4,P5),(P5,P6),(P6,P4)\\}$, tegn grafen for netværket $W_2=(V_2,E_2)$."
   ]
  },
  {
   "cell_type": "markdown",
   "id": "27b6f91e",
   "metadata": {},
   "source": [
    "Grafen for netværket $W_2$ består af to komponenter, som begge er tre-cykler. En *komponent* i en graf er en delmængde af grafens noder og kanter, hvor der er en vej mellem enhver to noder i delmængden, og der er ingen kanter, der forbinder noder i delmængden med noder udenfor delmængden. En *cykel* er en vej, der starter og slutter i samme node, og som ikke gentager nogen kanter eller noder imellem bortset fra start- og slutnoden."
   ]
  },
  {
   "cell_type": "markdown",
   "id": "984c28b8",
   "metadata": {},
   "source": [
    "(exercise:PageRank-3)=\n",
    "### Opgave 3\n",
    "\n",
    "> Diskutér hvordan antallet af komponenter i et netværk påvirker hjemmesidernes synlighed og tilgængelighed for en bruger."
   ]
  },
  {
   "cell_type": "markdown",
   "id": "1af9c326",
   "metadata": {},
   "source": [
    "I projektet skal vi bruge dictionaries i Python til at repræsentere netværket $W$ af hjemmesider. Denne datastruktur gør det muligt at tildele hver side en mængde af de sider, den linker til. Dictionariens nøgler repræsenterer siderne i $W$, og værdien for en given nøgle $k$ er mængden af sider, som side $p_k$ linker til. En dictionary i Python giver os derfor en effektiv måde at tildele hver hjemmeside et sæt af andre hjemmesider, som den peger på. For eksempel kan vi definere en simpel rettet graf som følger:"
   ]
  },
  {
   "cell_type": "code",
   "execution_count": 1,
   "id": "7f98b9eb",
   "metadata": {},
   "outputs": [],
   "source": [
    "W = {'P1': {'P2', 'P3'}, 'P2': {'P3'}, 'P3': {'P1'}}"
   ]
  },
  {
   "cell_type": "markdown",
   "id": "a5ce1852",
   "metadata": {},
   "source": [
    "Denne model gør det nemt at tilgå og manipulere data, idet vi hurtigt kan finde ud af, hvilke sider der modtager links fra en bestemt side, hvilket er essentielt for PageRank algoritmen, da link-strukturen danner grundlaget for at bestemme sidernes relative vigtighed."
   ]
  },
  {
   "cell_type": "markdown",
   "id": "2c6ddf92",
   "metadata": {},
   "source": [
    "(exercise:PageRank-4)=\n",
    "### Opgave 4 (*)"
   ]
  },
  {
   "cell_type": "markdown",
   "id": "72468bd8",
   "metadata": {},
   "source": [
    "> Skriv netværkene $W_1$ og $W_2$ som Python-kode ved at benytte en dictionary. Hvordan angiver man korrekt, at en hjemmeside ikke linker til andre hjemmesider?\n",
    "\n",
    "```{hint}\n",
    ":class: dropdown\n",
    "Overvej hvilken datatype værdierne for nøglerne er?\n",
    "```"
   ]
  },
  {
   "cell_type": "markdown",
   "id": "d6ea4484",
   "metadata": {},
   "source": [
    "I projektet har vi behov for at teste forskellige implementeringer af PageRank algoritmen på forskellige netværk, og derfor er vi interesserede i at kunne generere vilkårlige netværk med varierende størrelse."
   ]
  },
  {
   "cell_type": "markdown",
   "id": "08b25faf",
   "metadata": {},
   "source": [
    "(exercise:PageRank-5)=\n",
    "### Opgave 5\n",
    "> Skriv en Python-funktion, der laver en dictionary af `n` hjemmesider, hvor hver hjemmeside linker til et tilfældigt antal hjemmesider. Dette antal skal ligge mellem `kmin` og `k`.\n",
    "\n",
    "```python\n",
    "import numpy as np\n",
    "\n",
    "def make_web(n,k,kmin=0):\n",
    "\n",
    "    # Input: n og k er ikke-negative heltal\n",
    "    # Output: web er en dictionary med n nøgler.\n",
    "    # Værdien af hver nøgle er en liste, der er en delmængde af nøglerne.\n",
    "    \n",
    "    assert(k < n), \"k skal være mindre end n (da man ikke kan linke til sig selv)\"\n",
    "    assert(kmin <= k), \"kmin skal være mindre end eller lig med k\"\n",
    "    keys = # Fjern pass og INDSÆT KODE HER - definér n nøgler fra 0 til n-1 \n",
    "    web = dict()\n",
    "    \n",
    "    for j in keys:\n",
    "        numlinks = # INDSÆT KODE HER - generér et tilfældigt tal mellem kmin og k\n",
    "        web[j] = set() # INDSÆT KODE HER - Vælg et antal links (numlinks) fra de andre sider, undgå at vælge den nuværende side (j) og sørg for, at der ikke er duplikatlinks\n",
    "```\n",
    "\n",
    "```{hint}\n",
    ":class: dropdown\n",
    "Brug `np.random.choice()` til at vælge tilfældige elementer fra et array. \n",
    "```"
   ]
  },
  {
   "cell_type": "markdown",
   "id": "d8fbf04e",
   "metadata": {},
   "source": [
    "(exercise:PageRank-6)=\n",
    "### Opgave 6 (*)"
   ]
  },
  {
   "cell_type": "markdown",
   "id": "b2edcea2",
   "metadata": {},
   "source": [
    "> Skriv en Python-funktion, der laver en grafisk repræsentation af et netværk, hvor links vises med pile.\n",
    "\n",
    "```python\n",
    "import networkx as nx\n",
    "import matplotlib.pyplot as plt\n",
    "\n",
    "def visualize_graph(web):\n",
    "    \n",
    "    # Input: netværk som dictionary\n",
    "    # Output: Netværk visualiseret som graf\n",
    "\n",
    "    # INDSÆT KODE HER\n",
    "\n",
    "    plt.show()\n",
    "```\n",
    "\n",
    "```{hint}\n",
    ":class: dropdown\n",
    "Benyt `networkx` og `matplotlib.pyplot` til at visualisere netværket.\n",
    "```"
   ]
  },
  {
   "cell_type": "markdown",
   "id": "473f548c",
   "metadata": {},
   "source": [
    "## Link matricen og Random Surfer Modellen"
   ]
  },
  {
   "cell_type": "markdown",
   "id": "51e0c60e",
   "metadata": {},
   "source": [
    "I stedet for at bruge en graf eller en dictionary til at repræsentere netværket, kan vi også benytte en *adjacency-matrix* (nabo-matrix) til at repræsentere grafen. En adjacency-matrix $\\pmb{B}$ er en kvadratisk matrix, hvor hver række og søjle svarer til en hjemmeside. Hvis der er en kant fra node $p_j$ til node $p_i$, så vil elementet $B_{ij}$ i række $i$ og søjle $j$ i matricen være 1, ellers vil det være 0:\n",
    "\n",
    "\\begin{equation*}\n",
    "B_{ij} = \n",
    "\\begin{cases}\n",
    "1 & \\text{hvis } (p_j, p_i) \\in E, \\\\\n",
    "0 & \\text{ellers}.\n",
    "\\end{cases}\n",
    "\\end{equation*}\n",
    "\n",
    "Adjacency-matricen giver en effektiv måde at repræsentere rettede grafer på, da vi hurtigt kan tjekke, om der er et link mellem to sider ved at kontrollere det tilhørende element i matricen.\n",
    "\n",
    "At repræsentere netværket som en matrix kan være særligt fordelagtigt, når netværket er stort. Matrixformen muliggør hurtige beregninger ved hjælp af matrixoperationer, hvilket er væsentligt for effektiv analyse af netværkets struktur."
   ]
  },
  {
   "cell_type": "markdown",
   "id": "3ca91492",
   "metadata": {},
   "source": [
    "(exercise:PageRank-7)=\n",
    "### Opgave 7 (*)\n",
    "\n",
    "> Find adjacency-matricen for netværket $W_1$."
   ]
  },
  {
   "cell_type": "markdown",
   "id": "16268a6e",
   "metadata": {},
   "source": [
    "Hvis søjle $j$ er nulvektoren i adjacency-matricen, kaldes hjemmeside $j$ en *sink*. En sink er en hjemmeside, der ikke linker til andre hjemmesider."
   ]
  },
  {
   "cell_type": "markdown",
   "id": "734343dc",
   "metadata": {},
   "source": [
    "Vi er nu klar til at introducere ideen bag PageRank ved hjælp af random surfer modellen. I random surfer modellen forestiller vi os en bruger, der starter på en vilkårlig hjemmeside og derefter tilfældigt vælger at følge et af de udgående links fra denne side (man klikker på et tilfældigt link). Modellen beskriver, hvordan en surfer, der fortsætter med at vælge links tilfældigt, vil ende med at være på en bestemt side med en sandsynlighed, der afhænger af, hvordan links er struktureret mellem hjemmesiderne i netværket. Denne sandsynlighed, som siden til sidst “får” - når antallet af klik går mod uendelig - betegnes som sidens PageRank. I den videre behandling formaliseres denne idé, idet vi betragter tidsudviklingen som en diskret Markov kæde.\n",
    "\n",
    "En *Markov kæde* er en model, der beskriver et system, hvor fremtidige tilstande kun afhænger af den nuværende tilstand og ikke af, hvordan systemet kom dertil. Det betyder, at sandsynligheden for at nå næste hjemmeside udelukkende afhænger af den nuværende hjemmeside. \n",
    "\n",
    "I en Markov kæde er systemet opdelt i et sæt af tilstande, og overgange mellem disse tilstande sker med en sandsynlighed, der er fastlagt af en overgangsmatrix. Da adjacency-matricen er en binær matrix, der kun angiver, om der er et link fra en hjemmeside til en anden, definerer vi en *link matrix* $\\pmb{L}$, der beskriver sandsynligheden for at vælge at surfe fra en hjemmeside til en anden:\n",
    "\n",
    "\\begin{equation*}\n",
    "L_{ij} =\n",
    "\\begin{cases}\n",
    "\\frac{1}{N_j} & \\text{hvis } (p_j,p_i)\\in E \\\\\n",
    "\\frac{1}{N} &  \\text{hvis $p_j$ er en sink} \\\\\n",
    "0 & \\text{ellers}\n",
    "\\end{cases}\n",
    "\\end{equation*}\n",
    "\n",
    "Her er  $N_j=deg^+(p_j)$ antallet af udgående links fra side $p_j$, og $N=|V|$ er det samlede antal sider i netværket. \n",
    "\n",
    "Ligningen $L_{ij}=\\frac{1}{N}$ for $(p_j,p_i)\\notin E \\; \\; \\; \\forall i\\in V \\;| \\; i\\neq j$ kan umiddelbart se kompliceret ud, men den praktiske betydning er simpel: Når en hjemmeside er en sink, tilskrives den lige sandsynlighed over alle sider. Dette sikrer at Markov-kæden ikke \"går i stå\" (sagt med flottere ord: link-matricen forbliver fuldstændig stokastisk)."
   ]
  },
  {
   "cell_type": "markdown",
   "id": "a05f8ca3",
   "metadata": {},
   "source": [
    "(exercise:PageRank-8)=\n",
    "### Opgave 8 (*)\n",
    "> Bestem link matricen for $W_1$. Sammenlign med adjacency-matricen i Opgave 7."
   ]
  },
  {
   "cell_type": "markdown",
   "id": "c943c288",
   "metadata": {},
   "source": [
    "**Definition 1. Sandsynlighedsvektor**: En reel række- eller søjlevektor er en *sandsynlighedsvektor* (eller sandsynlighedsfordeling), hvis dens elementer er ikke-negative og summerer til 1.\n",
    "\n",
    "Fx er den konstante søjlevektor $\\pmb{x}_0 = [1/N,1/N, \\dots, 1/N]^T \\in \\mathbb{R}^N$ en sandsynlighedsvektor. I random surfer modellen regner man ikke overraskende med sandsynligheder. Således vil sandsynlighedsvektoren $\\pmb{x} = [1,0,0 \\dots, 0]^T \\in \\mathbb{R}^N$ modellere at man befinder sig på hjemmdeside $p_1$ med $100\\%$ sikkerhed. Mere kompliceret bliver det med fx  $\\pmb{x} = [1/2,0,1/2, 0,0, \\dots, 0]^T \\in \\mathbb{R}^N$ som modellerer at man befinder på hjemmdeside $p_1$ med $50\\%$ sandsynlighed og på $p_3$ med $50\\%$ sandsynlighed, mens alle andre hjemmesider har sandsynlighed nul."
   ]
  },
  {
   "cell_type": "markdown",
   "id": "65e2e05c",
   "metadata": {},
   "source": [
    "Lad os nu prøve at forstå definitionen af link-matricen $\\pmb{L}$. Antag at $\\pmb{x} = [1,0,0 \\dots, 0]^T \\in \\mathbb{R}^N$ er begyndelsestilstanden - vi starter altså på side $p_1$. Hvis vi ganger med $\\pmb{L}$ fra venstre, dvs $\\pmb{L} \\pmb{x}$, \n",
    "Hvis $p_1$ linker til $p_2$ og $p_3$, vil $\\pmb{L} \\pmb{x} = [0,1/2,1/2,0, \\dots, 0]^T$ (tjek gerne efter!). Vektoren $\\pmb{L} \\pmb{x}$ modellerer altså ét klik fra  begyndelsestilstanden $\\pmb{x}$. Tilsvarende vil $\\pmb{L}(\\pmb{L} \\pmb{x}) = \\pmb{L}^2 \\pmb{x}$ modellere to klik fra begyndelsestilstanden $\\pmb{x}$. Generelt set vil $\\pmb{L}^t \\pmb{x}$ være tilstanden efter $t \\in \\mathbb{N}$ klik.  \n",
    "\n",
    "\n",
    "\n",
    "**Definition 2. PageRank**:\n",
    "For et netværk af hjemmesider betegner PageRank $PR(p_i)$ af en side $p_i$ netop sandsynligheden for at være ved $p_i$, når tiden går mod uendelig. Tiden opfattes som en diskret størrelse $t=1,2,3,\\dots$ og $PR(p_i)$ er det i'te element i $\\lim_{t \\to \\infty} \\pmb{L}^t \\pmb{x}_0$, hvor $\\pmb{x}_0$ er en begyndelsestilstand (en sandsynlighedsvektor, ofte den konstante vektor).\n",
    "\n",
    "(Der er et \"stort\" problem ved denne definition: For nogle netværk konvergerer $\\pmb{L}^t \\pmb{x}_0$ ikke for $t \\to \\infty$. Vi indfører senere *dæmpning*, der løser dette problem.)"
   ]
  },
  {
   "cell_type": "markdown",
   "id": "88410a47",
   "metadata": {},
   "source": [
    "Vi kan beregne PageRank af en hjemmeside ud fra random surfer modellen på følgende vis:"
   ]
  },
  {
   "cell_type": "markdown",
   "id": "4217f043",
   "metadata": {},
   "source": [
    "**Random surfer model**\n",
    "\n",
    "Betragt et netværk $W=(V,E)$ med $N$ hjemmesider ($|V|=N$). Antag at hjemmeside $p_k$ linker til $N_k$ sider $\\{p_{l_1}, \\dots, p_{l_{N_k}}\\}\\subseteq V$. Udfør nu følgende simulering $j$ gange:\n",
    "\n",
    "1. Vælg en vilkårlig side fra $V$ med lige sandsynlighed $\\frac{1}{N}$.\n",
    "\n",
    "2. Ved alle efterfølgende trin: Antag at surferen befinder sig på side $p$:\n",
    "   - Hvis hjemmeside $p$ er en sink, så vælg en vilkårlig side fra $V$.\n",
    "   - Hvis side $p$ har udgående links til $\\{p_{l_1}, \\dots, p_{l_{N_k}}\\}$, så vælg en tilfældig hjemmeside blandt $\\{p_{l_1}, \\dots, p_{l_{N_k}}\\}$.\n",
    "\n",
    "3. Hver gang en side besøges tælles dette, således at $M_k$ er antal gange $p_k$ er besøgt af surferen. Hvis stikprøvestørrelsen $j$ er stor nok, vil $\\frac{M_k}{j}$ repræsentere sandsynligheden for tilfældigt at ende på side $p_k$, og dermed tilnærmer $\\frac{M_k}{j}$ PageRank for $p_k$ for høje nok $j$.\n",
    "\n",
    "*Note*: Denne metode til at finde en PageRank kan betragtes som en Markov kæde Monte Carlo simulering."
   ]
  },
  {
   "cell_type": "markdown",
   "id": "6104398c",
   "metadata": {},
   "source": [
    "(exercise:PageRank-9)=\n",
    "### Opgave 9\n",
    "> Skriv en Python-funktion, der simulerer ét skridt af random surfer modellen. Funktionen skal tage et netværk af sider (repræsenteret som en dictionary) og en startside som input og returnere en sandsynlighedsfordeling for, hvilke sider surferens næste klik vil føre til.\n",
    "\n",
    "```python\n",
    "def surf_step(web, page):\n",
    "    \n",
    "    # Input: Et netværk som dictionary og en start side\n",
    "    # Output: Sandsynlighedsfordeling som dictionary for næste hjemmeside\n",
    "    \n",
    "    distribution=dict()\n",
    "\n",
    "    # INDSÆT KODE HER\n",
    "\n",
    "    return distribution\n",
    "```"
   ]
  },
  {
   "cell_type": "markdown",
   "id": "1af178cb",
   "metadata": {},
   "source": [
    "(exercise:PageRank-10)=\n",
    "### Opgave 10\n",
    "> Skriv en Python-funktion, der beregner PageRank værdier for hver side ved at simulere en random surfer. Funktionen skal kalde `surf_step` til at udføre simulationen.\n",
    "\n",
    "```python\n",
    "def random_surf(web, n):\n",
    "\n",
    "    # Input: Et netværk som dictionary og antallet af skridt i random surf simuleringen\n",
    "    # Output: PageRank-værdier for hver side som en dictionary\n",
    "\n",
    "    ranking=dict()\n",
    " \n",
    "    # INDSÆT KODE HER\n",
    "\n",
    "    return ranking\n",
    "```"
   ]
  },
  {
   "cell_type": "markdown",
   "id": "fc9278da",
   "metadata": {},
   "source": [
    "(exercise:PageRank-11)=\n",
    "### Opgave 11"
   ]
  },
  {
   "cell_type": "markdown",
   "id": "94fb07d7",
   "metadata": {},
   "source": [
    "> Brug `random_surf` funktionen med 100, 1000 og 10000 iterationer til at bestemme PageRanken for netværkene $W_1$ og $W_2$. Vurdér, hvorvidt funktionen giver en pålidelig måling af PageRank for de givne netværk. Det kan her være nyttigt at udskrive output af `random_surf(web, n)` for fx $n=100, 101, 102, 103, 104, 105$ og $n=10000, 10001, 10002, 10003, 10004, 10005$."
   ]
  },
  {
   "cell_type": "markdown",
   "id": "5555895c",
   "metadata": {},
   "source": [
    "```python\n",
    "for n in range(1000, 1010, 1):\n",
    "    print(random_surf(W1, n))\n",
    "```\n",
    "\n",
    "```python\n",
    "for n in range(1000, 1010, 1):\n",
    "    print(random_surf(W2, n))\n",
    "```\n",
    "\n",
    "For at undgå at surferen bliver fanget i en komponent, og at PageRanken dermed bliver 0 for alle hjemmesider i andre komponenter, tilføjer vi en dæmpningsfaktor $d\\in [0,1]$ til random surfer modellen. *Dæmpningsfaktoren* er en parameter i random surfer modellen, der simulerer sandsynligheden for, at en surfer vil vælge en tilfældig side i stedet for at følge et link. Vi vil senere i projektet undersøge valget af $d$. Indtil da sætter vi $d=0.85$."
   ]
  },
  {
   "cell_type": "markdown",
   "id": "9f5f0a0c",
   "metadata": {},
   "source": [
    "**Random surfer model med dæmpning**\n",
    "Betragt et netværk $W=(V,E)$ med $N$ hjemmesider ($|V|=N$). Antag at hjemmeside $p_k$ linker til $N_k$ sider $\\{p_{l_1}, \\dots, p_{l_{N_k}}\\}\\subseteq V$. Udfør nu følgende simulering $j$ gange:\n",
    "\n",
    "1. Vælg en vilkårlig side fra $V$ med lige sandsynlighed $\\frac{1}{N}$.\n",
    "\n",
    "2. Ved alle efterfølgende trin: Antag at surferen befinder sig på side $p$:\n",
    "   - Hvis hjemmeside $p$ er en sink, så vælg en vilkårlig side fra $V$.\n",
    "   - Hvis side $p$ har udgående links til $\\{p_{l_1}, \\dots, p_{l_{N_k}}\\}$, så vælg med sandsynlighed $d$ en tilfældig hjemmeside blandt $\\{p_{l_1}, \\dots, p_{l_{N_k}}\\}$, og med sandsynlighed $1-d$ vælg en tilfældig side fra $V$.\n",
    "\n",
    "3. Hver gang en side besøges tælles dette, således at $M_k$\n",
    " er antal gange $p_k$ er besøgt af surferen. Hvis stikprøvestørrelsen $j$ er stor nok, vil $\\frac{M_k}{j}$ repræsentere sandsynligheden for at tilfældigt ende på side $p_k$, og dermed tilnærer $\\frac{M_k}{j}$ PageRank for $p_k$ for høje nok $j$."
   ]
  },
  {
   "cell_type": "markdown",
   "id": "26bfad97",
   "metadata": {},
   "source": [
    "(exercise:PageRank-12)=\n",
    "### Opgave 12"
   ]
  },
  {
   "cell_type": "markdown",
   "id": "e919f883",
   "metadata": {},
   "source": [
    "> Modificer `random_step` og `random_surf` så de følger random surfer modellen med dæmpning.\n",
    "\n",
    "```python\n",
    "def surf_step_damp(web, page, d):\n",
    "    \n",
    "    # Input: Et netværk som dictionary, en start side og en dæmpningsfaktor\n",
    "    # Output: Sandsynlighedsfordeling som dictionary for næste hjemmeside\n",
    "    \n",
    "    distribution=dict()\n",
    "\n",
    "    # INDSÆT KODE HER\n",
    "\n",
    "    return distribution\n",
    "```\n",
    "\n",
    "```python\n",
    "def random_surf_damp(web, n, d):\n",
    "\n",
    "    # Input: Et netværk som dictionary, antallet af skridt i random surf simuleringen og en dæmpningsfaktor\n",
    "    # Output: PageRank-værdier for hver side som en dictionary\n",
    "\n",
    "    ranking=dict()\n",
    " \n",
    "    # INDSÆT KODE HER\n",
    "\n",
    "    return ranking\n",
    "```"
   ]
  },
  {
   "cell_type": "markdown",
   "id": "e25786e7",
   "metadata": {},
   "source": [
    "(exercise:PageRank-13)=\n",
    "### Opgave 13\n",
    "> Brug `random_surf_damp` funktionen med 100, 1000 og 10000 iterationer til at bestemme PageRanken for netværkene $W_1$ og $W_2$. Sammenlign resultatet med opgave 11."
   ]
  },
  {
   "cell_type": "markdown",
   "id": "38782048",
   "metadata": {},
   "source": [
    "```python\n",
    "for n in range(1000, 1010, 1):\n",
    "    print(random_surf_damp(W1, n))\n",
    "```\n",
    "\n",
    "```python\n",
    "for n in range(1000, 1010, 1):\n",
    "    print(random_surf_damp(W2, n))\n",
    "```\n",
    "\n",
    "## Rekursiv Model og Matrix Formulering"
   ]
  },
  {
   "cell_type": "markdown",
   "id": "1ff1dfb7",
   "metadata": {},
   "source": [
    "Ud fra de tidligere opgaver, kan vi nu se, at random surfer modellen med dæmpning faktisk giver fornuftige PageRanks for et sæt hjemmesider. Der er dog to væsentlige problemer ved den, nemlig at tilfældighedselementet gør, at man ikke nødvendigvis får den samme PageRank hver gang man laver det, samt at det er beregningstungt bl.a. fordi mange iterationer kan være nødvendigt. For at undgå disse problemer kan man kigge på en rekursiv model. Først sættes alle PageRanks af hjemmesiderne til at være $PR_1(p) = \\frac{1}{N}$, hvor $N$ er antal sider. For enhver side $p$, kan vi komme til $p$ på to måder:\n",
    "- tilfældigt, altså med sandsynlighed $(1-d)\\frac{1}{N}$\n",
    "- gennem et link fra en anden side $q$. Så skal vi først være ved $q$, og derefter vælge $p$ blandt alle de sider $q$ linker til. Hvis en side ikke linker til $p$, er sandsynligheden for at gå til $p$ via link selvfølgelig $0$.\n",
    "Med disse betragtninger, kan PageRank af $p$ rekursivt opdateres ved \n",
    "\n",
    "\\begin{equation*}\n",
    "PR_{n+1}(p) = (1-d)\\frac{1}{N} + d\\sum_{q \\in Inbound(p)}\\frac{PR_n(q)}{deg^+(q)}.\n",
    "\\end{equation*}"
   ]
  },
  {
   "cell_type": "markdown",
   "id": "7badc0e6",
   "metadata": {},
   "source": [
    "(exercise:PageRank-14)=\n",
    "### Opgave 14\n",
    "> Forklar hvad hvert led i ovenstående formel for den rekursive version betyder. \n",
    "\n",
    "```{hint}\n",
    ":class: dropdown\n",
    "Undersøg additionsprincippet og multiplikationsprincippet.\n",
    "```"
   ]
  },
  {
   "cell_type": "markdown",
   "id": "32bcc8c7",
   "metadata": {},
   "source": [
    "(exercise:PageRank-15)=\n",
    "### Opgave 15\n",
    "\n",
    "> Implementér `rank_update` og `recursive_PageRank` og kør på netværkene $W_1$ og $W_2$ med `d=0.85` og `n=100`.\n",
    "\n",
    "```python\n",
    "def rank_update(web, PageRanks, page, d):\n",
    "\n",
    "        \"\"\"\n",
    "        Opdaterer værdien af PageRank for en side baseret på den rekursive formel\n",
    "        Sider uden udgående links (sinks) behandles som om de linker til alle sider på nettet.\n",
    "\n",
    "        Input: \n",
    "            web og PageRanks er dictionaries som i outputtet fra \"make_web\" og \"random_surf\",\n",
    "            page er nøglen til den side, hvis rank vi ønsker at opdatere, og\n",
    "            d er dampingfaktoren.\n",
    "        Output: \n",
    "            PageRank opdateres i henhold til ovenstående formel,\n",
    "            og denne funktion returnerer et float \"increment\", den (absolutte) forskel\n",
    "            mellem den tidligere værdi og den opdaterede værdi af PR(p).\n",
    "        \"\"\"\n",
    "\n",
    "        return increment\n",
    "```\n",
    "\n",
    "```python\n",
    "def recursive_PageRank(web, stopvalue=0.0001, max_iterations=200, d=0.85):\n",
    "    \"\"\"\n",
    "    Implementerer den rekursive version af PageRank-algoritmen ved først at oprette\n",
    "    en PageRank på 1/N til alle sider (hvor N er det samlede antal sider)\n",
    "    og derefter anvende \"rank_update\" gentagne gange, indtil en af de to stopbetingelser\n",
    "    er opnået:\n",
    "    stopbetingelse 1: den maksimale ændring fra trin n til trin (n+1) over alle PageRank\n",
    "    er mindre end stopværdien,\n",
    "    Stopbetingelse 2: antallet af iterationer har nået \"max_iterations\".\n",
    "\n",
    "    Input: web er et dictionary som i outputtet af \"make_web\", d er dæmpningen,\n",
    "    stopvalue er et positivt float, max_iterations er et positivt heltal.\n",
    "    \"\"\"\n",
    "\n",
    "    PageRanks = dict()\n",
    "\n",
    "    return PageRanks, iteration\n",
    "```"
   ]
  },
  {
   "cell_type": "markdown",
   "id": "109d4c81",
   "metadata": {},
   "source": [
    "I den rekursive model kan den rekursive formel skrives kompakt ved hjælp af den\n",
    "allerede definerede link matrix $\\pmb{L}$. Lader vi \n",
    "\n",
    "\\begin{equation*}\n",
    "\\pmb{x_n} \n",
    "= \n",
    "\\begin{bmatrix}\n",
    "PR_n(p_{1})\\\\\n",
    "PR_n(p_{2})\\\\\n",
    "\\vdots\\\\\n",
    "PR_n(p_{N})\n",
    "\\end{bmatrix}\n",
    "\\end{equation*}\n",
    "\n",
    "og \n",
    "\n",
    "\\begin{equation*}\n",
    "\\pmb{e} \n",
    "= \n",
    "\\begin{bmatrix}\n",
    "1\\\\\n",
    "1\\\\\n",
    "\\vdots\\\\\n",
    "1\n",
    "\\end{bmatrix},\n",
    "\\end{equation*}\n",
    "\n",
    "så kan den rekursive formel\n",
    "\n",
    "\\begin{equation*}\n",
    "PR_{n+1}(p) \n",
    "= \n",
    "(1-d)\\,\\frac{1}{N} \n",
    "+ \n",
    "d \\sum_{q \\in \\mathrm{Inbound}(p)} \\frac{PR_n(q)}{deg^+(q)}\n",
    "\\tag{▲}\n",
    "\\end{equation*}\n",
    "\n",
    "skrives i matrixform som\n",
    "\n",
    "\\begin{equation*}\n",
    "\\pmb{x}_{n+1}\n",
    "=\n",
    "\\frac{1-d}{N}\\,\\pmb{e}\n",
    "+\n",
    "d\\,\\pmb{L}\\,\\pmb{x}_n.\n",
    "\\tag{■}\n",
    "\\end{equation*}\n",
    "\n",
    "Her er $\\pmb{e}$ en $N\\times 1$-vektor af 1-taller, $d$ er dæmpningsfaktoren,\n",
    "og $\\pmb{L}$ er link matricen, der beskriver sandsynlighederne for at følge links fra én side til en anden."
   ]
  },
  {
   "cell_type": "markdown",
   "id": "d59b987d",
   "metadata": {},
   "source": [
    "(exercise:PageRank-16)=\n",
    "### Opgave 16\n",
    "\n",
    "> Argumentér for at (▲) kan omskrives til (■).\n",
    ">\n",
    "> Antag, at $\\pmb{x}$ er en sandsynlighedsvektor, dvs. at dens elementer summerer til 1. Vis, at (■) kan skrives som\n",
    ">\n",
    ">\\begin{equation*} \\pmb{x}_{n+1} = \\pmb{M}_d \\, \\pmb{x}_n, \\end{equation*}\n",
    ">\n",
    ">hvor\n",
    ">\n",
    ">\\begin{equation*} \\pmb{M}_d = \\frac{1 - d}{N} \\, \\pmb{E_N} + d \\, \\pmb{L}, \\end{equation*}\n",
    ">\n",
    ">og $\\pmb{E_N}$ er en $N \\times N$-matrix, der udelukkende består af 1-taller."
   ]
  },
  {
   "cell_type": "markdown",
   "id": "829ef4a0",
   "metadata": {},
   "source": [
    "Matricen $\\pmb{M}_d$ kaldes for den *modificerede link matrix*. Hvis vi antager, at det altid går godt, dvs. at $\\pmb{x_n}$ på et tidspunkt går mod noget stabilt for større og større $n$, kan vi konkludere, at den PageRank vi leder efter faktisk er netop det $\\pmb{x}$, som opfylder at være en sandsynlighedsvektor og\n",
    "\n",
    "\\begin{equation*}\n",
    "\\pmb{x}\n",
    "=\n",
    "\\pmb{M}_d\\,\\pmb{x}.\n",
    "\\end{equation*}\n",
    "\n",
    "\n",
    "Den ovenstående ligning udtrykker, at PageRank vektoren $\\pmb{x}$ er en egenvektor for $\\pmb{M}_d$\n",
    "med egenværdi 1. Hvis dæmpningsfaktoren $d$ ikke er nul, er der (op til \n",
    "omskalering) netop én egenvektor for denne matrix med egenværdi 1. \n",
    "\n",
    "Vi vil i projektet vise, at dette altid er sandt, når $0<d<1$, og at der dermed findes en entydig løsning for den (dampede) PageRank algoritme. Den matrixbaserede formulering giver os derfor endnu en måde at beregne PageRank på: \n",
    "- Find en egenvektor svarende til egenværdien et, og skalér vektoren, så dens elementer summerer til et."
   ]
  },
  {
   "cell_type": "markdown",
   "id": "79803163",
   "metadata": {},
   "source": [
    "(exercise:PageRank-17)=\n",
    "### Opgave 17\n",
    "> Implementér `modified_link_matrix` og test på netværkene $W_1$ og $W_2$ med `d=0.85`.\n",
    "\n",
    "```python\n",
    "\n",
    "def modified_link_matrix(web, pagelist, d=0.85):\n",
    "\n",
    "    # Input: web (dictionary), pagelist (liste over nøgler), d (dæmpningsfaktor)\n",
    "    # Output: d*A^T + (1-d)*E/N\n",
    "    \n",
    "    # A: NxN numpy array, hvor række j har ikke-nul elementer i søjler, som side j linker til.\n",
    "    # Hvis side j ikke linker til nogen, får alle elementer i række j værdien 1/N.\n",
    "    # E: np.ones([N,N])\n",
    "    \n",
    "    # INDSÆT KODE HER\n",
    "```"
   ]
  },
  {
   "cell_type": "markdown",
   "id": "9cb0fe74",
   "metadata": {},
   "source": [
    "(exercise:PageRank-18)=\n",
    "### Opgave 18"
   ]
  },
  {
   "cell_type": "markdown",
   "id": "4ed3dc95",
   "metadata": {},
   "source": [
    "> Vis at summen af hver søjle i $\\pmb{M}_d$ er lig med 1."
   ]
  },
  {
   "cell_type": "markdown",
   "id": "559e75b0",
   "metadata": {},
   "source": [
    "## Markov matricen: Egenskaber og Dæmpning i PageRank"
   ]
  },
  {
   "cell_type": "markdown",
   "id": "52e3eecd",
   "metadata": {},
   "source": [
    "Vi ønsker at vise, at den dampede PageRank algoritme konvergerer mod en unik sandsynlighedsfordeling, som vi påstod i forrige afsnit. For at vise det får vi brug for at introducere *Markov matricen*:\n",
    "\n",
    "**Definition 3. Markov matrix**: En *Markov matrix* $\\pmb{A} = [a_{ij}] \\in \\mathbb{R}^{n\\times n}$ er en $n \\times n$ reel matrix med ikke-negative elementer, hvis rækker summerer til 1:\n",
    "\n",
    "\\begin{equation*}\n",
    "a_{ij} \\ge 0 \\quad \\forall i, j\n",
    "\\end{equation*}\n",
    "\n",
    "og\n",
    "\n",
    "\\begin{equation*}\n",
    "\\sum_{j=1}^n a_{ij} = 1 \\quad \\forall i.\n",
    "\\end{equation*}"
   ]
  },
  {
   "cell_type": "markdown",
   "id": "39edbebe",
   "metadata": {},
   "source": [
    "Eksempelvis er \n",
    "\n",
    "\\begin{equation*}\n",
    "\\begin{bmatrix}\n",
    "0.3 & 0.7 \\\\\n",
    "0   & 1\n",
    "\\end{bmatrix}\n",
    "\\end{equation*}\n",
    "\n",
    "en Markov matrix, men\n",
    "\n",
    "\\begin{equation*}\n",
    "\\begin{bmatrix}\n",
    "2 & -1 \\\\\n",
    "0 & 1\n",
    "\\end{bmatrix}\n",
    "\\quad \\text{og} \\quad\n",
    "\\begin{bmatrix}\n",
    "0.2 & 0.5 \\\\\n",
    "0.4 & 0.6\n",
    "\\end{bmatrix}\n",
    "\\end{equation*}\n",
    "\n",
    "er det ikke. \n",
    "\n",
    "Hvis $\\pmb{A}$ er en Markov matrix, så kombineret med ovenstående to betingelser, må vi have at\n",
    "\n",
    "\\begin{equation*}\n",
    "0 \\le a_{ij} \\le 1,\n",
    "\\end{equation*}\n",
    "for alle $i,j$."
   ]
  },
  {
   "cell_type": "markdown",
   "id": "1dcd343d",
   "metadata": {},
   "source": [
    "(exercise:PageRank-19)=\n",
    "### Opgave 19\n",
    "> Argumentér for at $\\pmb{L}^T$ er en Markov matrix."
   ]
  },
  {
   "cell_type": "markdown",
   "id": "f6348665",
   "metadata": {},
   "source": [
    "(exercise:PageRank-20)=\n",
    "### Opgave 20\n",
    "> Vis, at hvis $\\pmb{A}$ er en Markov matrix så er $\\pmb{A e} = \\pmb{e}$, det vil sige, at $(1,\\pmb{e})$ er et egenpar for $\\pmb{A}$."
   ]
  },
  {
   "cell_type": "markdown",
   "id": "98d77705",
   "metadata": {},
   "source": [
    "(exercise:PageRank-21)=\n",
    "### Opgave 21\n",
    "\n",
    "> Bevis at en matrix $\\pmb{A}$ og dens transponerede matrix $\\pmb{A}^T$ har de samme egenværdier. Vis derefter at de ikke nødvendigvis har de samme egenvektorer (det vil sige: giv et eksempel på en matrix $\\pmb{A}$, hvor $\\pmb{A}$ og $\\pmb{A}^T$ har forskellige egenvektorrum)."
   ]
  },
  {
   "cell_type": "markdown",
   "id": "3332c382",
   "metadata": {},
   "source": [
    "**Definition 4. Stationære fordeling**: Hvis $\\pmb{A}$ er en Markov matrix med strengt positive elementer, kaldes den entydige sandsynlighedsvektor $\\pmb{x}$, der opfylder \n",
    "\n",
    "\\begin{equation*}\n",
    "\\pmb{A}^T \\pmb{x} = \\pmb{x},\n",
    "\\end{equation*} \n",
    "\n",
    "for den *stationære fordeling* for $\\pmb{A}$."
   ]
  },
  {
   "cell_type": "markdown",
   "id": "3ae7148a",
   "metadata": {},
   "source": [
    "Bemærk at Markov matricen kan have elementer med værdien 0. Vi vil senere i projektet vise, hvordan vi kan garantere, at $\\pmb{A}$ har strengt positive elementer. Da $\\pmb{L}=\\pmb{A}^T$ og $\\pmb{A}$ har de samme egenværdier og ikke nødvendigvis de samme egenvektorer, ønsker vi at bestemme PageRanken ved at finde en egenvektor $\\pmb{x}$, der opfylder ligningen\n",
    "\n",
    "\\begin{equation*}\n",
    "\\pmb{Lx} = \\pmb{x}\n",
    "\\end{equation*}\n",
    "\n",
    "Vi er dog interesserede i at arbejde med den modificerede link matrix, når vi skal bestemme PageRanken, som beskrevet tidligere. Vi påstod, at der eksisterede en sandsynlighedsvektor $\\pmb{x}$, der opfylder $\\pmb{M}_d\\pmb{x}=\\pmb{x}$. For at kunne vise dette, skal vi først konstruere den tilhørende *modificerede Markov matrix*:\n",
    "\n",
    "Lad $0 < d < 1$. For $\\pmb{A} \\in \\mathbb{R}^{n \\times n}$, sæt:\n",
    "\n",
    "\\begin{equation*}\n",
    "\\pmb{A}_d = \\frac{1-d}{n} \\pmb{E}_n + d \\pmb{A}\n",
    "\\end{equation*}"
   ]
  },
  {
   "cell_type": "markdown",
   "id": "88cf3b0b",
   "metadata": {},
   "source": [
    "(exercise:PageRank-22)=\n",
    "### Opgave 22\n",
    "> Lad $\\pmb{A}$ være en Markov matrix, og lad $0 < d < 1$. Bevis, at $\\pmb{A}_d$ også er en Markov matrix, og at $\\pmb{A}_d$ har strengt positive elementer, det vil sige $(\\pmb{A}_d)_{ij} > 0$ for alle $i$ og $j$."
   ]
  },
  {
   "cell_type": "markdown",
   "id": "1ce3924e",
   "metadata": {},
   "source": [
    "(exercise:PageRank-23)=\n",
    "### Opgave 23\n",
    "> Vi antog tidligere, at den modificerede link matrix $\\pmb{M}_d$ havde egenværdi 1 for $0<d<1$. Vis dette."
   ]
  },
  {
   "cell_type": "markdown",
   "id": "b2c3bc3a",
   "metadata": {},
   "source": [
    "Da vi har vist, at $\\pmb{M}_d$ har egenværdi 1 for $0<d<1$, ved vi, at der eksisterer en egenvektor $\\pmb{x}$, som opfylder $\\pmb{M}_d\\pmb{x}=\\pmb{x}$. Vi vil senere vise, at dette er den entydige løsning til den dampede PageRank algoritme."
   ]
  },
  {
   "cell_type": "markdown",
   "id": "37e4b2d5",
   "metadata": {},
   "source": [
    "(exercise:PageRank-24)=\n",
    "### Opgave 24\n",
    "\n",
    "> Implementér en Python-funktion der, givet et netværk, kalder `modified_link_matrix`, finder en egenvektor tilhørende egenværdien 1, og laver den til en sandsynlighedsvektor.\n",
    "\n",
    "```python\n",
    "\n",
    "def eigenvector_PageRank(web,d=0.85):\n",
    "        # Input: web er en ordbog over websider og links.\n",
    "        # d er dæmpningen\n",
    "        # Output: En ordbog med de samme nøgler som web og værdierne er PageRank for nøglerne\n",
    "\n",
    "        ranking = dict()\n",
    "\n",
    "        # INDSÆT KODE HER\n",
    "\n",
    "        return ranking\n",
    "```"
   ]
  },
  {
   "cell_type": "markdown",
   "id": "05925d2b",
   "metadata": {},
   "source": [
    "(exercise:PageRank-25)=\n",
    "### Opgave 25\n",
    "> At beregne egenvektorer for store matricer kan være tidskrævende. Lav et netværk med `make_web` funktionen, hvor `n=5000` og `k=10`, og find PageRanken ved brug af `eigenvector_PageRank`. Undersøg og kommentér på køretiden.\n",
    "\n",
    "```{hint}\n",
    ":class: dropdown\n",
    "Brug pakken `time` til at bestemme køretiden.\n",
    "```"
   ]
  },
  {
   "cell_type": "markdown",
   "id": "d23fcaf9",
   "metadata": {},
   "source": [
    "```python\n",
    "web = make_web(5000,10,0)\n",
    "eigenvector_PageRank(web)\n",
    "```\n",
    "\n",
    "## PageRank algoritmen: Iterativ Konvergens og Dæmpning i Markov Matricer"
   ]
  },
  {
   "cell_type": "markdown",
   "id": "2724febc",
   "metadata": {},
   "source": [
    "Da det er beregningsmæssigt tungt at finde egenværdier og egenvektorer for store matricer, vil vi gerne finde en anden måde at finde egenvektorer med tilhørende egenværdi 1. Det er der heldigvis en metode til at gøre med Markov matricer, og det er det, denne sektion bygger op til. Vi ønsker at nå frem til, at vi for en særlig klasse af Markov matricer kan opløfte den i en eksponent, og som eksponenten går mod uendelig bliver hver søjle i matricen netop en fornuftig PageRank for det netværk af hjemmesider, som Markov matricen repræsenterer."
   ]
  },
  {
   "cell_type": "markdown",
   "id": "81879d25",
   "metadata": {},
   "source": [
    "(exercise:PageRank-26)=\n",
    "### Opgave 26 (*)\n",
    "\n",
    "> Beregn produktet af følgende Markov matricer. Verificer at den resulterende matrix ligeledes er en Markov matrix?\n",
    ">\n",
    ">\\begin{equation*}\n",
    "A = \\begin{bmatrix}\n",
    "0.2 & 0.5 & 0.3 \\\\\n",
    "0.4 & 0.4 & 0.2 \\\\\n",
    "0.1 & 0.7 & 0.2\n",
    "\\end{bmatrix},\n",
    "\\quad\n",
    "B = \\begin{bmatrix}\n",
    "0.5 & 0.3 & 0.2 \\\\\n",
    "0.2 & 0.5 & 0.3 \\\\\n",
    "0.3 & 0.2 & 0.5\n",
    "\\end{bmatrix}\n",
    "\\end{equation*}"
   ]
  },
  {
   "cell_type": "markdown",
   "id": "0c87bc48",
   "metadata": {},
   "source": [
    "At produktet af to Markov matricer er en Markov matrix er en nyttig egenskab, som vi får brug for senere."
   ]
  },
  {
   "cell_type": "markdown",
   "id": "0530807f",
   "metadata": {},
   "source": [
    "(exercise:PageRank-27)=\n",
    "### Opgave 27\n",
    "\n",
    "> Vis at produktet af to Markov matricer er en Markov matrix."
   ]
  },
  {
   "cell_type": "markdown",
   "id": "2fc49694",
   "metadata": {},
   "source": [
    "(exercise:PageRank-28)=\n",
    "### Opgave 28\n",
    "\n",
    "> Konkludér at hvis $\\pmb{A}$ er en Markov matrix, så er $\\pmb{A}^k$ også en Markov matrix for alle $k\\in \\mathbb{N}$."
   ]
  },
  {
   "cell_type": "markdown",
   "id": "2ce70656",
   "metadata": {},
   "source": [
    "Vi får også brug for, at ingen egenværdier af en Markov matrix har absolutværdi større end 1. En anden måde at sige dette på er, at den *spektrale radius* $\\operatorname{rad}_{\\pmb{A}}$ af en Markov matrix $\\pmb{A}$ er lig 1:\n",
    "\n",
    "\\begin{equation*}\\operatorname{rad}_{\\pmb{A}} = \\max \\{|\\lambda_1|, \\ldots, |\\lambda_n|\\}\\end{equation*}\n",
    "\n",
    "Vi ser senere, hvordan dette er med til at sikre, at potenser af den særlige klasse af Markov matricer konvergerer."
   ]
  },
  {
   "cell_type": "markdown",
   "id": "1d0a357f",
   "metadata": {},
   "source": [
    "(exercise:PageRank-29)=\n",
    "### Opgave 29\n",
    "> Lad $\\pmb{A}$ være en $n\\times n$ Markov matrix. Vis at $\\operatorname{rad}_{\\pmb{A}} = 1$.\n",
    "\n",
    "```{hint}\n",
    ":class: dropdown\n",
    "Antag at $\\pmb{A}$ har en egenværdi $\\lambda$ med $|\\lambda|>1$. Lad $\\pmb{v}$ være den tilhørende egenvektor. For en Markov matrix er summen af hver række netop 1, altså kan $\\pmb{A}\\pmb{v} = \\lambda \\pmb{v}$ ses som $n$ (forskellige) vægtede gennemsnit af $\\pmb{v}_1, \\pmb{v}_2, \\ldots, \\pmb{v}_n$. Hvor stor kan absolutværdien af et vægtet gennemsnit af $n$ elementer maksimalt være?\n",
    "```"
   ]
  },
  {
   "cell_type": "markdown",
   "id": "15a511d0",
   "metadata": {},
   "source": [
    "(exercise:PageRank-30)=\n",
    "### Opgave 30 (*)\n",
    "Betragt følgende matrix:\n",
    "\\begin{equation*}\n",
    "\\pmb{A} = \n",
    "\\begin{bmatrix}\n",
    "    0 & 1 & 0\\\\\n",
    "    0 & 0 & 1\\\\\n",
    "    1 & 0 & 0\n",
    "\\end{bmatrix}\n",
    "\\end{equation*}\n",
    "Er det en Markov matrix? Find dens egenværdier og egenværdiernes modulus. Find $\\pmb{A}^2, \\pmb{A}^3$. Konvergerer matricen $\\pmb{A}^k$ for $k\\to \\infty$?"
   ]
  },
  {
   "cell_type": "markdown",
   "id": "099f484d",
   "metadata": {},
   "source": [
    "Nu betragter vi den særlige klasse af Markov matricer nævnt før, nemlig Markov matricer med *strengt* positive elementer - endnu en grund til at dæmpningsfaktoren er en vigtig spiller i PageRank algoritmen. For at sikre os konvergensen af potenser af Markov matricer med strengt positive elementer, skal vi sikre, at $1$ er den eneste egenværdi med modulus $1$. Til dette får vi brug for trekantsuligheden:\n",
    "\n",
    "**Trekantsuligheden**:  \n",
    "For alle komplekse tal $z$ og $w$ gælder  \n",
    "\\begin{equation*}\n",
    " |z+w| \\leq |z| + |w|,\n",
    "\\end{equation*}\n",
    "med lighed hvis og kun hvis $z$ og $w$ er på formen $z = kw, k\\in \\mathbb{R}_{\\geq 0}$ \n",
    "\n",
    "Mere generelt følger det ved induktion, at for en samling af $n$ komplekse tal $z_1, \\dots, z_n$ gælder:  \n",
    "- $\\left| \\sum_{i=1}^n z_i \\right| \\leq \\sum_{i=1}^n |z_i|$\n",
    "- Lighed opstår kun, hvis alle tallene $z_i$ har samme hovedargument."
   ]
  },
  {
   "cell_type": "markdown",
   "id": "a2945113",
   "metadata": {},
   "source": [
    "(exercise:PageRank-31)=\n",
    "### Opgave 31\n",
    "> Hvis $\\pmb{A}$ er en Markov-matrix med *strengt* positive elementer ($a_{ij} > 0$ $\\forall$ $i,j$), bevis at der er præcis én egenværdi $\\lambda$ med $|\\lambda| = 1$, nemlig $\\lambda = 1$, og desuden at det tilsvarende egenrum er $\\mathcal{E}_1 = \\hbox{span}\\{ \\pmb{e} \\}$, hvor $\\pmb{e} = [1,1,\\dots,1]^t$. Alle andre egenværdier har modulus mindre end 1.\n",
    "\n",
    "Hint:\n",
    "*Maks-normen* af en vektor $\\pmb{x}$ defineres som \n",
    "\\begin{equation*}\n",
    "\\Vert\\pmb{x}\\Vert_{\\infty} := \\max_k \\{|x_k|\\},\n",
    "\\end{equation*}\n",
    "dvs. værdien af det største element i absolut/numerisk værdi, jf. Example 2.1.2. i lærebogen.\n",
    "\n",
    "Antag, at $\\lambda$ er en egenværdi med $|\\lambda|=1$, og at $\\pmb{v}$ er en tilhørende egenvektor. Lad $k$ være et indeks, så $\\Vert\\pmb{v}\\Vert_{\\infty} = |v_k|$. Da kan vi skrive:\n",
    "\n",
    "\\begin{align}\n",
    "\\Vert\\pmb{v}\\Vert_{\\infty} &= |\\lambda| |v_k| = |\\lambda v_k| = \\left|\\sum_{j=1}^n a_{kj}v_j\\right| \\\\\n",
    "&\\leq \\sum_{j=1}^n |a_{kj}v_j| = \\sum_{j=1}^n a_{kj}|v_j| \\\\\n",
    "&\\leq \\sum_{j=1}^n a_{kj} \\Vert\\pmb{v}\\Vert_{\\infty} = \\Vert\\pmb{v}\\Vert_{\\infty}.\n",
    "\\end{align}\n",
    "\n",
    "> Giv begrundelse for hvert trin ovenfor. \n",
    "\n",
    "Da den første og sidste led i denne kæde er ens, må der være lighed i hver ulighed. Brug den første af disse uligheder sammen med punkt (2) i trekantsuligheden ovenfor, samt den anden af disse ligheder (og betingelsen $a_{ij}>0$) til at vise, at vi må have $\\pmb{v} = C \\pmb{e}$, hvor $|C| = \\Vert\\pmb{v}\\Vert_{\\infty}$."
   ]
  },
  {
   "cell_type": "markdown",
   "id": "8ce4dfdd",
   "metadata": {},
   "source": [
    "(exercise:PageRank-32)=\n",
    "### Opgave 32 (*)\n",
    "\n",
    "> Tag matricen $\\pmb{A}$ fra opgave 30. Dæmp den med faktor $0.85$, kald denne matrix $\\pmb{A}_d$. Find herefter dens egenværdier, deres modulus, og kommenter på resultatet. Konvergerer $\\pmb{A}_d^k$ for $k \\to \\infty$?\n",
    "\n",
    "```{hint}\n",
    ":class: dropdown\n",
    "Diagonalisér matricen.\n",
    "```"
   ]
  },
  {
   "cell_type": "markdown",
   "id": "afd208d5",
   "metadata": {},
   "source": [
    "**Sætning 1**: Lad $n\\geq 2$ og $\\pmb{A}$ være en $n \\times n$ Markov matrix med *strengt* positive elementer. Så er der en *entydig* vektor $\\pmb{x} \\in \\mathbb{R}^n$ således at $\\pmb{A}^T\\pmb{x} = \\pmb{x}$, alle elementer i $\\pmb{x}$ er strengt positive og summerer til 1, samt:\n",
    "\\begin{equation*}\n",
    "\\lim_{k\\to \\infty} (\\pmb{A}^T)^k = \\pmb{xe}^t = [\\pmb{x}, \\pmb{x}, \\ldots, \\pmb{x}]\n",
    "\\end{equation*}"
   ]
  },
  {
   "cell_type": "markdown",
   "id": "b05ad235",
   "metadata": {},
   "source": [
    "(exercise:PageRank-33)=\n",
    "### Opgave 33\n",
    "> Forklar hvorfor **Sætning 1** er relevant for PageRank algoritmen."
   ]
  },
  {
   "cell_type": "markdown",
   "id": "f2d3d83e",
   "metadata": {},
   "source": [
    "(exercise:PageRank-34)=\n",
    "### Opgave 34.\n",
    "> Lad $\\pmb{A}$ være en $n \\times n$ Markov matrix med strengt positive elementer. Bevis **Sætning 1** under antagelsen at $\\pmb{A}$ er diagonaliserbar.\n",
    "\n",
    "```{hint}\n",
    ":class: dropdown\n",
    "Hvis $\\pmb{A}$ er diagonaliserbar er $\\pmb{A} = \\pmb{V}\\pmb{D}\\pmb{V}^{-1}$ for en matrix $\\pmb{V}$ og en diagonalmatrix $\\pmb{D}$. Hvad er $\\pmb{A}^k$?\n",
    "```"
   ]
  },
  {
   "cell_type": "markdown",
   "id": "024ea650",
   "metadata": {},
   "source": [
    "(exercise:PageRank-35)=\n",
    "### Opgave 35\n",
    "\n",
    "> Skriv en Python-funktion der givet et netværk, eksponent `power` og en dæmpningsfaktor `d`, kalder `modified_link_matrix` og ganger den med sig selv `power` gange, og returnerer en PageRank for netværket.\n",
    "\n",
    "```python\n",
    "\n",
    "def matrix_PageRank(web,power,d=0.85):\n",
    "\n",
    "    # Input: web er et dictionary med websider og links.\n",
    "    # d er en positiv float, dæmpningskonstanten.\n",
    "    # Output: Et dictionary med de samme nøgler som web, og værdierne er PageRank for hver nøgle.\n",
    "\n",
    "    ranking = dict()\n",
    "\n",
    "    # INDSÆT KODE HER\n",
    "\n",
    "    return ranking\n",
    "```"
   ]
  },
  {
   "cell_type": "markdown",
   "id": "31c7ba2c",
   "metadata": {},
   "source": [
    "(exercise:PageRank-36)=\n",
    "### Opgave 36 (**)\n",
    "\n",
    "> Vi ønsker at vise, at konvergensen af `matrix_PageRank` algoritmen er afhængig af valget af dæmpningsfaktoren $d$. Vis at hvis $\\pmb{A}$ har egenværdier 1, $\\lambda_1$, $\\lambda_2$,...,$\\lambda_{n-1}$, så har $\\pmb{A}_d$ egenværdier 1, $d\\lambda_1$, $d\\lambda_2$,...,$d\\lambda_{n-1}$.\n",
    "\n",
    "```{hint}\n",
    ":class: dropdown\n",
    "Vis først at $1$ er en egenværdi for $\\pmb{A}_d$. Betragt herefter $\\pmb{A}^T$. Hvad er $\\pmb{e}^T\\pmb{A}^T$? Vis at hvis $\\pmb{v}$ er egenvektor for $\\pmb{A}^T$ med egenværdi forskellig fra $1$, da er $\\pmb{v}\\perp \\pmb{e}$. Hvilke egenværdier har $\\pmb{E}_n$? Hvordan forholder deres egenrum sig til hinanden? Vis herefter at enhver egenvektor for $\\pmb{A}^T$ også er en egenvektor for $\\pmb{A}_d^T$. Hvad er deres tilhørende egenværdier?\n",
    "```"
   ]
  },
  {
   "cell_type": "markdown",
   "id": "8e082492",
   "metadata": {},
   "source": [
    "(exercise:PageRank-37)=\n",
    "### Opgave 37\n",
    "\n",
    "> Diskutér valget af dæmpningen i PageRank algoritmen ud fra konvergens og korrekthed. Overvej konvergensen hvis $\\pmb{L}$ er en $n \\times n$-matrix med egenværdier $\\lambda_1=1$, $\\lambda_2=-0.999$ og $|\\lambda_k|<0.5$ for $k=2,...,n$. Inddrag en geometrisk visualisering og sammenlign konvergensen for $\\pmb{L}$ og $\\pmb{M}_d$. Hvad sker der hvis vi erstatter $\\lambda_2=-0.999$ med $\\lambda_2=0.999\\cdot i$?"
   ]
  },
  {
   "cell_type": "markdown",
   "id": "288ccc4d",
   "metadata": {},
   "source": [
    "(exercise:PageRank-38)=\n",
    "### Opgave 38\n",
    "> Argumentér hvorfor vi kan tillade os at bruge `matrix_PageRank` funktionen til at bestemme PageRanken, når det er en approksimativ algoritme."
   ]
  },
  {
   "cell_type": "markdown",
   "id": "2ed99466",
   "metadata": {},
   "source": [
    "## Analyse af PageRank Modeller og Undersøgelse af Dæmpning"
   ]
  },
  {
   "cell_type": "markdown",
   "id": "d06a927d",
   "metadata": {},
   "source": [
    "(exercise:PageRank-39)=\n",
    "### Opgave 39\n",
    "\n",
    "> Skriv en Python-funktion, der givet et netværk og en ranking, laver en grafisk repræsentation af netværket, hvor pile illustrerer links mellem hjemmesider, og størrelser af hjemmesiderne angiver størrelsen af PageRanken. Test funktionen på $W_1$ og $W_2$.\n",
    "\n",
    "```python\n",
    "def plot_ranking(web, ranking, d=0.85):\n",
    "\n",
    "    # Input: web og ranking er dictionary, eksempelvis som output fra funktionerne \"make_web\" og \"random_surf\".\n",
    "\n",
    "    # Output: Grafisk repræsentation af webstrukturen med links som #pile og PageRank visualiseret ved størrelsen af hjemmesider.\n",
    "\n",
    "    # INSERT CODE HERE\n",
    "\n",
    "    plt.show()\n",
    "```"
   ]
  },
  {
   "cell_type": "markdown",
   "id": "52bb916a",
   "metadata": {},
   "source": [
    "(exercise:PageRank-40)=\n",
    "### Opgave 40\n",
    "\n",
    "> Test de fire PageRank algoritmer på store netværk oprettet ved hjælp af funktionen `make_web`. For at sammenligne to forskellige implementeringer skal du beregne PageRank for det samme netværk til samme præcisionsgrad og sammenligne tiden. Ændrer de relative tider sig, hvis der kræves højere eller lavere præcision?"
   ]
  },
  {
   "cell_type": "markdown",
   "id": "dbe5f498",
   "metadata": {},
   "source": [
    "> Indtil videre har vi benyttet `d=0.85`. Eksperimentér med forskellige værdier af dæmpningen (f.eks. 0.5, 0.75, 0.9) i `matrix_PageRank`. Kør funktionen på det samme netværk (benyt `make_web`) og mål, hvor mange iterationer der kræves for at opnå konvergens, samt hvordan den endelige rangordning af siderne ændres. Diskutér valget af dæmpningen."
   ]
  },
  {
   "cell_type": "markdown",
   "id": "a5bb6453",
   "metadata": {},
   "source": [
    "## Jordans Normal Form: Generalisering af Diagonaliserbarhed"
   ]
  },
  {
   "cell_type": "markdown",
   "id": "090094d4",
   "metadata": {},
   "source": [
    "I opgave 34 viste vi gyldigheden af PageRank algoritmen (`matrix_PageRank`) under antagelse af, at $\\pmb{A}$ er diagonaliserbar. Dette er dog ikke altid tilfældet, og vi er derfor interesserede i at vise, at PageRank algoritmen konvergerer selvom $\\pmb{A}$ ikke kan diagonaliseres. Derfor får vi brug for Jordans normal form:"
   ]
  },
  {
   "cell_type": "markdown",
   "id": "2af799e3",
   "metadata": {},
   "source": [
    "Jordans normal form er en normalform for kvadratiske matricer, som generaliserer diagonaliserbarhed. Lad $\\pmb{A} \\in \\mathbb{C}^{n \\times n}$ have $m$ forskellige egenværdier $\\lambda_1, \\lambda_2, \\dots, \\lambda_m$. Så findes en invertibel matrix $\\pmb{P}$, således at\n",
    "\\begin{equation*}\n",
    "\\pmb{A} = \\pmb{PJP}^{-1},\n",
    "\\end{equation*}\n",
    "hvor $\\pmb{J}$, Jordans normal form for $\\pmb{A}$, er en blokdiagonal matrix bestående af Jordan blokke. Hele $\\pmb{J}$ kan skrives som\n",
    "\\begin{equation*}\n",
    "\\pmb{J} = \\begin{bmatrix}\n",
    "\\pmb{J}_{k_1}(\\lambda_1) & 0 & \\cdots & 0 \\\\\n",
    "0 & \\pmb{J}_{k_2}(\\lambda_2) & \\cdots & 0 \\\\\n",
    "\\vdots & \\vdots & \\ddots & \\vdots \\\\\n",
    "0 & 0 & \\cdots & \\pmb{J}_{k_m}(\\lambda_m)\n",
    "\\end{bmatrix},\n",
    "\\end{equation*}\n",
    "hvor $\\lambda_i$'erne ikke behøver at være forskellige. Hver Jordan blok $\\pmb{J}_{k_i}(\\lambda_i)$ for egenværdien $\\lambda_i$ har dimension $k_i \\times k_i$ og har formen\n",
    "\\begin{equation*}\n",
    "\\pmb{J}_{k_i}(\\lambda_i)=\n",
    "\\begin{bmatrix}\n",
    "\\lambda_i & 1      & 0      & \\cdots & 0 \\\\\n",
    "0       & \\lambda_i & 1      & \\cdots & 0 \\\\\n",
    "\\vdots  & \\ddots & \\ddots & \\ddots & \\vdots \\\\\n",
    "0       & \\cdots & 0      & \\lambda_i & 1 \\\\\n",
    "0       & \\cdots & \\cdots & 0      & \\lambda_i\n",
    "\\end{bmatrix}.\n",
    "\\end{equation*}"
   ]
  },
  {
   "cell_type": "markdown",
   "id": "585fdfac",
   "metadata": {},
   "source": [
    "(exercise:PageRank-41)=\n",
    "### Opgave 41 (**)\n",
    "> Vis **Sætning 1** ved at bruge Jordans normal form. I må derfor *ikke* antage, at $\\pmb{A}$ er diagonaliserbar."
   ]
  }
 ],
 "metadata": {
  "jupytext": {
   "formats": "ipynb,md:myst",
   "text_representation": {
    "extension": ".md",
    "format_name": "myst",
    "format_version": 0.13,
    "jupytext_version": "1.16.6"
   }
  },
  "kernelspec": {
   "display_name": "Python 3",
   "language": "python",
   "name": "python3"
  },
  "language_info": {
   "codemirror_mode": {
    "name": "ipython",
    "version": 3
   },
   "file_extension": ".py",
   "mimetype": "text/x-python",
   "name": "python",
   "nbconvert_exporter": "python",
   "pygments_lexer": "ipython3",
   "version": "3.9.21"
  },
  "source_map": [
   13,
   17,
   21,
   30,
   38,
   51,
   55,
   66,
   71,
   78,
   83,
   90,
   94,
   104,
   108,
   110,
   114,
   119,
   131,
   135,
   168,
   173,
   199,
   203,
   219,
   229,
   233,
   254,
   263,
   269,
   281,
   285,
   301,
   321,
   341,
   346,
   350,
   365,
   379,
   384,
   415,
   421,
   436,
   447,
   461,
   509,
   563,
   583,
   601,
   622,
   627,
   634,
   638,
   654,
   688,
   697,
   706,
   716,
   726,
   742,
   751,
   760,
   764,
   786,
   797,
   807,
   811,
   835,
   839,
   849,
   859,
   867,
   881,
   899,
   914,
   942,
   957,
   964,
   973,
   987,
   1010,
   1025,
   1035,
   1044,
   1048,
   1068,
   1078,
   1085,
   1089,
   1093,
   1120
  ]
 },
 "nbformat": 4,
 "nbformat_minor": 5
}
